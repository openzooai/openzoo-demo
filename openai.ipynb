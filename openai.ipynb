{
 "cells": [
  {
   "cell_type": "markdown",
   "metadata": {},
   "source": [
    "# OpenAI"
   ]
  },
  {
   "cell_type": "markdown",
   "metadata": {},
   "source": [
    "---\n",
    "\n",
    "### Imports & Setup"
   ]
  },
  {
   "cell_type": "code",
   "execution_count": null,
   "metadata": {},
   "outputs": [],
   "source": [
    "# OS, utils\n",
    "import os\n",
    "from pprint import pprint\n",
    "\n",
    "# Load environment variables\n",
    "import dotenv\n",
    "dotenv.load_dotenv()"
   ]
  },
  {
   "cell_type": "markdown",
   "metadata": {},
   "source": [
    "---\n",
    "\n",
    "### Using OpenAI\n",
    "\n",
    "Import & initialize"
   ]
  },
  {
   "cell_type": "code",
   "execution_count": null,
   "metadata": {},
   "outputs": [],
   "source": [
    "# OpenAI\n",
    "from openai import OpenAI\n",
    "\n",
    "# Create an instance of OpenAI\n",
    "oa = OpenAI()"
   ]
  },
  {
   "cell_type": "markdown",
   "metadata": {},
   "source": [
    "Inference"
   ]
  },
  {
   "cell_type": "code",
   "execution_count": null,
   "metadata": {},
   "outputs": [],
   "source": [
    "response = oa.chat.completions.create(model=\"gpt-3.5-turbo\", \n",
    "                                      messages=[{\"role\":\"user\", \n",
    "                                                 \"content\":\"\"\"\n",
    "Hi! How are you doing today?\n",
    "\"\"\"}])\n",
    "\n",
    "pprint(response.choices[0].message.model_dump_json())"
   ]
  },
  {
   "cell_type": "markdown",
   "metadata": {},
   "source": [
    "---\n",
    "\n",
    "### Tasks"
   ]
  },
  {
   "cell_type": "code",
   "execution_count": null,
   "metadata": {},
   "outputs": [],
   "source": [
    "response = oa.chat.completions.create(model=\"gpt-3.5-turbo\", \n",
    "                                      messages=[{\"role\":\"user\", \n",
    "                                                 \"content\":\"\"\"\n",
    "Summarize the following text:\n",
    "\n",
    "Urban Lab - Centre for Science and Environment Analysis\n",
    "Report 1\n",
    "Winter pollution in India: Overview of\n",
    "the crisis\n",
    "In 2020 the Urban Lab at the Centre for Science and Environment (CSE) started publishing the state of\n",
    "winter air quality among cities and towns of India that have realtime air quality monitoring. The analysis\n",
    "of the winter of 2022-23 covered 234 cities. The assessment of the seasonal trend in PM2.5\n",
    "concentration was done by sourcing realtime data from 440 CAAQMS stations via CPCB´s online portal.\n",
    "A huge volume of data points have been cleaned and data gaps have been addressed based on the\n",
    "USEPA method for this analysis. Winter has been defined as 1 October to 28 February. A minimum of 90\n",
    "days of valid 24-hour values was deemed mandatory to assign a seasonal/winter PM2.5 level to a\n",
    "station. Cities with multiple stations are represented by the mean of all the city stations that meet the\n",
    "minimum data requirement for both 2021-22 winter and 2022-23 winter.\n",
    "Regional levels have been constructed using the mean of all cities with valid seasonal levels in the\n",
    "particular region. India level has been determined as the mean of regional levels. These regional and\n",
    "national levels are only indicative.\n",
    "National and regional: North India was the most polluted region despite registering an improvement of\n",
    "about 15 per cent from the previous winter. Sound India remains the least polluted region but PM2.5\n",
    "levels have risen almost 17 per cent from the previous year. Pollution rose in West India and Northeast\n",
    "India as well. Central India registered marginal improvement in its winter air quality. Overall, the national\n",
    "average air quality for the 2022-23 winter was 1.32 per cent worse compared to the previous winter (See\n",
    "Table 1R1: National and regional winter PM2.5 levels)\n",
    "\"\"\"}])"
   ]
  },
  {
   "cell_type": "code",
   "execution_count": null,
   "metadata": {},
   "outputs": [],
   "source": [
    "response = oa.chat.completions.create(model=\"gpt-3.5-turbo\", \n",
    "                                      messages=[{\"role\":\"user\", \n",
    "                                                 \"content\":\"\"\"\n",
    "Sarah is planning her son Tom's birthday party and intends to buy 3 balloons at $0.50 each,\n",
    "2 cupcakes at $2 each, and 2 juice boxes at $1 each for each of the 10 children initially\n",
    "expected to attend. Calculate the total cost Sarah will spend on balloons, cupcakes, and\n",
    "juice boxes for *all* the children. Think step by step.\n",
    "\"\"\"}])"
   ]
  },
  {
   "cell_type": "code",
   "execution_count": null,
   "metadata": {},
   "outputs": [],
   "source": [
    "response = oa.chat.completions.create(model=\"gpt-3.5-turbo\", \n",
    "                                      messages=[{\"role\":\"user\", \n",
    "                                                 \"content\":\"\"\"\n",
    "Given a database with two tables, Sales (columns: SaleID, ProductID, Amount, SaleDate)\n",
    "and Products (columns: ProductID, ProductName, Category), write an SQL query to find\n",
    "the total sales amount for each product category for the last quarter. Include only\n",
    "those categories in the results that have generated more than $10,000 in total sales\n",
    "in this period. Sort the results by the total sales amount in descending order.\n",
    "\"\"\"}])"
   ]
  }
 ],
 "metadata": {
  "kernelspec": {
   "display_name": "david-fjV07fyA-py3.10",
   "language": "python",
   "name": "python3"
  },
  "language_info": {
   "codemirror_mode": {
    "name": "ipython",
    "version": 3
   },
   "file_extension": ".py",
   "mimetype": "text/x-python",
   "name": "python",
   "nbconvert_exporter": "python",
   "pygments_lexer": "ipython3",
   "version": "3.10.12"
  }
 },
 "nbformat": 4,
 "nbformat_minor": 2
}
