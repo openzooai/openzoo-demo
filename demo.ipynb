{
 "cells": [
  {
   "cell_type": "markdown",
   "metadata": {},
   "source": [
    "# OpenZoo Demo"
   ]
  },
  {
   "cell_type": "markdown",
   "metadata": {},
   "source": [
    "---\n",
    "\n",
    "### Imports & Setup"
   ]
  },
  {
   "cell_type": "code",
   "execution_count": 2,
   "metadata": {},
   "outputs": [],
   "source": [
    "import os\n",
    "import json\n",
    "from pprint import pprint\n",
    "from utils import *"
   ]
  },
  {
   "cell_type": "markdown",
   "metadata": {},
   "source": [
    "---\n",
    "\n",
    "### Basic Usage\n",
    "\n",
    "OpenZoo is OpenAI compatible - just add 'api_key' and 'base_url' parameters"
   ]
  },
  {
   "cell_type": "code",
   "execution_count": 3,
   "metadata": {},
   "outputs": [],
   "source": [
    "from openai import OpenAI\n",
    "\n",
    "client = OpenAI(\n",
    "    api_key=\"d56f4hd45hd23h4d86h4e5rgstwetgljew\",\n",
    "    base_url=\"http://api.openzoo.ai:8888\" \n",
    ")"
   ]
  },
  {
   "cell_type": "markdown",
   "metadata": {},
   "source": [
    "Inference - where you would normally specify a model, you specify a **task**"
   ]
  },
  {
   "cell_type": "code",
   "execution_count": 4,
   "metadata": {},
   "outputs": [
    {
     "name": "stdout",
     "output_type": "stream",
     "text": [
      "{'choices': [{'finish_reason': 'eos',\n",
      "              'index': 0,\n",
      "              'logprobs': None,\n",
      "              'message': {'content': '  Why did the unicorn go to the party?\\n'\n",
      "                                     '\\n'\n",
      "                                     'Because it was a \"hoof\"-ton of fun!',\n",
      "                          'function_call': None,\n",
      "                          'role': 'assistant',\n",
      "                          'tool_calls': None}}],\n",
      " 'created': 1712510368,\n",
      " 'id': '870baec19da15bf0-LIS',\n",
      " 'model': 'meta-llama/Llama-2-7b-chat-hf',\n",
      " 'object': 'chat.completion',\n",
      " 'prompt': [],\n",
      " 'system_fingerprint': None,\n",
      " 'usage': {'completion_tokens': 29, 'prompt_tokens': 19, 'total_tokens': 48}}\n"
     ]
    }
   ],
   "source": [
    "response = client.chat.completions.create(\n",
    "    model=\"chat\",\n",
    "    messages=[{\"role\": \"user\", \"content\": \"Tell me a joke about unicorns\"}],\n",
    "    stream=False,\n",
    ")\n",
    "\n",
    "pprint(chat_completion_to_dict(response))"
   ]
  },
  {
   "cell_type": "markdown",
   "metadata": {},
   "source": [
    "---\n",
    "\n",
    "### Streaming inference"
   ]
  },
  {
   "cell_type": "code",
   "execution_count": null,
   "metadata": {},
   "outputs": [],
   "source": [
    "stream = client.chat.completions.create(\n",
    "    model=\"chat\",\n",
    "    messages=[{\"role\": \"user\", \"content\": \"Tell me a short joke about beavers\"}],\n",
    "    stream=True,\n",
    ")\n",
    "\n",
    "chunk = None\n",
    "content = \"\"\n",
    "\n",
    "for chunk in stream:\n",
    "    content += chunk.choices[0].text\n",
    "    print(chunk.choices[0].text, end=\"\", flush=True)"
   ]
  },
  {
   "cell_type": "markdown",
   "metadata": {},
   "source": [
    "Metadata"
   ]
  },
  {
   "cell_type": "code",
   "execution_count": null,
   "metadata": {},
   "outputs": [],
   "source": [
    "chunk.choices[0].text = content\n",
    "chat_completion_chunk_to_dict(chunk)"
   ]
  },
  {
   "cell_type": "markdown",
   "metadata": {},
   "source": [
    "---\n",
    "\n",
    "### Task types"
   ]
  },
  {
   "cell_type": "markdown",
   "metadata": {},
   "source": [
    "Chat"
   ]
  },
  {
   "cell_type": "code",
   "execution_count": null,
   "metadata": {},
   "outputs": [],
   "source": [
    "response = client.chat.completions.create(\n",
    "    model=\"chat\",\n",
    "    messages=[{\"role\": \"user\", \"content\": \"Tell me a joke about unicorns\"}],\n",
    "    stream=False,\n",
    ")\n",
    "\n",
    "pprint(chat_completion_to_dict(response))"
   ]
  },
  {
   "cell_type": "markdown",
   "metadata": {},
   "source": [
    "Summarization"
   ]
  },
  {
   "cell_type": "code",
   "execution_count": null,
   "metadata": {},
   "outputs": [],
   "source": [
    "response = client.chat.completions.create(\n",
    "    model=\"chat\",\n",
    "    messages=[{\"role\": \"user\", \"content\": \"\"\"\n",
    "Summarize the following text:\n",
    "\n",
    "Urban Lab - Centre for Science and Environment Analysis\n",
    "Report 1\n",
    "Winter pollution in India: Overview of\n",
    "the crisis\n",
    "In 2020 the Urban Lab at the Centre for Science and Environment (CSE) started publishing the state of\n",
    "winter air quality among cities and towns of India that have realtime air quality monitoring. The analysis\n",
    "of the winter of 2022-23 covered 234 cities. The assessment of the seasonal trend in PM2.5\n",
    "concentration was done by sourcing realtime data from 440 CAAQMS stations via CPCB´s online portal.\n",
    "A huge volume of data points have been cleaned and data gaps have been addressed based on the\n",
    "USEPA method for this analysis. Winter has been defined as 1 October to 28 February. A minimum of 90\n",
    "days of valid 24-hour values was deemed mandatory to assign a seasonal/winter PM2.5 level to a\n",
    "station. Cities with multiple stations are represented by the mean of all the city stations that meet the\n",
    "minimum data requirement for both 2021-22 winter and 2022-23 winter.\n",
    "Regional levels have been constructed using the mean of all cities with valid seasonal levels in the\n",
    "particular region. India level has been determined as the mean of regional levels. These regional and\n",
    "national levels are only indicative.\n",
    "National and regional: North India was the most polluted region despite registering an improvement of\n",
    "about 15 per cent from the previous winter. Sound India remains the least polluted region but PM2.5\n",
    "levels have risen almost 17 per cent from the previous year. Pollution rose in West India and Northeast\n",
    "India as well. Central India registered marginal improvement in its winter air quality. Overall, the national\n",
    "average air quality for the 2022-23 winter was 1.32 per cent worse compared to the previous winter (See\n",
    "Table 1R1: National and regional winter PM2.5 levels)\n",
    "\"\"\"\n",
    "}],\n",
    "    stream=False,\n",
    ")\n",
    "\n",
    "pprint(chat_completion_to_dict(response))"
   ]
  },
  {
   "cell_type": "markdown",
   "metadata": {},
   "source": [
    "Math"
   ]
  },
  {
   "cell_type": "code",
   "execution_count": null,
   "metadata": {},
   "outputs": [],
   "source": [
    "response = client.chat.completions.create(\n",
    "    model=\"chat\",\n",
    "    messages=[{\"role\": \"user\", \"content\": \"\"\"\n",
    "Sarah is planning her son Tom's birthday party and intends to buy 3 balloons at $0.50 each,\n",
    "2 cupcakes at $2 each, and 2 juice boxes at $1 each for each of the 10 children initially\n",
    "expected to attend. Calculate the total cost Sarah will spend on balloons, cupcakes, and\n",
    "juice boxes for *all* the children. Think step by step.\n",
    "\"\"\"}],\n",
    "    stream=False,\n",
    ")\n",
    "\n",
    "pprint(chat_completion_to_dict(response))"
   ]
  },
  {
   "cell_type": "markdown",
   "metadata": {},
   "source": [
    "Text to Sql"
   ]
  },
  {
   "cell_type": "code",
   "execution_count": null,
   "metadata": {},
   "outputs": [],
   "source": [
    "response = client.chat.completions.create(\n",
    "    model=\"chat\",\n",
    "    messages=[{\"role\": \"user\", \"content\": \"\"\"\n",
    "Given a database with two tables, Sales (columns: SaleID, ProductID, Amount, SaleDate)\n",
    "and Products (columns: ProductID, ProductName, Category), write an SQL query to find\n",
    "the total sales amount for each product category for the last quarter. Include only\n",
    "those categories in the results that have generated more than $10,000 in total sales\n",
    "in this period. Sort the results by the total sales amount in descending order.\n",
    "\"\"\"}],\n",
    "    stream=False,\n",
    ")\n",
    "\n",
    "pprint(chat_completion_to_dict(response))"
   ]
  },
  {
   "cell_type": "markdown",
   "metadata": {},
   "source": [
    "---\n",
    "\n",
    "### Inferring task type"
   ]
  },
  {
   "cell_type": "code",
   "execution_count": 6,
   "metadata": {},
   "outputs": [
    {
     "name": "stdout",
     "output_type": "stream",
     "text": [
      "{'choices': [{'finish_reason': 'eos',\n",
      "              'index': 0,\n",
      "              'logprobs': None,\n",
      "              'message': {'content': '  Sure! Here is an SQL query that solves '\n",
      "                                     'the problem you described:\\n'\n",
      "                                     '```\\n'\n",
      "                                     'SELECT p.ProductName, SUM(s.Amount) AS '\n",
      "                                     'TotalSales\\n'\n",
      "                                     'FROM Sales s\\n'\n",
      "                                     'JOIN Products p ON s.ProductID = '\n",
      "                                     'p.ProductID\\n'\n",
      "                                     'WHERE s.SaleDate >= '\n",
      "                                     'DATE_SUB(CURRENT_DATE, INTERVAL 3 MONTH) '\n",
      "                                     '-- last quarter\\n'\n",
      "                                     'GROUP BY p.ProductName\\n'\n",
      "                                     'HAVING SUM(s.Amount) > 10000 -- at least '\n",
      "                                     '$10,000 in total sales\\n'\n",
      "                                     'ORDER BY TotalSales DESC;\\n'\n",
      "                                     '```\\n'\n",
      "                                     'Explanation:\\n'\n",
      "                                     '\\n'\n",
      "                                     '1. First, we use the `JOIN` clause to '\n",
      "                                     'join the `Sales` and `Products` tables '\n",
      "                                     'on the `ProductID` column.\\n'\n",
      "                                     '2. Then, we use the `WHERE` clause to '\n",
      "                                     'filter the results to only include sales '\n",
      "                                     'that occurred within the last quarter '\n",
      "                                     '(i.e., 3 months ago).\\n'\n",
      "                                     '3. Next, we use the `GROUP BY` clause to '\n",
      "                                     'group the results by `ProductName`.\\n'\n",
      "                                     '4. We then use the `HAVING` clause to '\n",
      "                                     'filter the results to only include '\n",
      "                                     'products that have generated more than '\n",
      "                                     '$10,000 in total sales during the last '\n",
      "                                     'quarter.\\n'\n",
      "                                     '5. Finally, we use the `ORDER BY` clause '\n",
      "                                     'to sort the results by the total sales '\n",
      "                                     'amount in descending order.\\n'\n",
      "                                     '\\n'\n",
      "                                     'Note that this query assumes that the '\n",
      "                                     '`Sales` table has a `SaleID` column, and '\n",
      "                                     'that the `Products` table has a '\n",
      "                                     '`ProductID` column. If these columns are '\n",
      "                                     'not present in the tables, you will need '\n",
      "                                     'to modify the query accordingly.',\n",
      "                          'function_call': None,\n",
      "                          'role': 'assistant',\n",
      "                          'tool_calls': None}}],\n",
      " 'created': 1712510465,\n",
      " 'id': '870bb1098e865bda-LIS',\n",
      " 'model': 'meta-llama/Llama-2-7b-chat-hf',\n",
      " 'object': 'chat.completion',\n",
      " 'prompt': [],\n",
      " 'system_fingerprint': None,\n",
      " 'usage': {'completion_tokens': 353, 'prompt_tokens': 129, 'total_tokens': 482}}\n"
     ]
    }
   ],
   "source": [
    "response = client.chat.completions.create(\n",
    "    model=None,\n",
    "    messages=[{\"role\": \"user\", \"content\": \"\"\"\n",
    "Generate SQL code for the following problem statement:\n",
    "               \n",
    "Given a database with two tables, Sales (columns: SaleID, ProductID, Amount, SaleDate)\n",
    "and Products (columns: ProductID, ProductName, Category), write an SQL query to find\n",
    "the total sales amount for each product category for the last quarter. Include only\n",
    "those categories in the results that have generated more than $10,000 in total sales\n",
    "in this period. Sort the results by the total sales amount in descending order.\n",
    "\"\"\"}],\n",
    "    stream=False,\n",
    ")\n",
    "\n",
    "pprint(chat_completion_to_dict(response))"
   ]
  },
  {
   "cell_type": "code",
   "execution_count": null,
   "metadata": {},
   "outputs": [],
   "source": []
  }
 ],
 "metadata": {
  "kernelspec": {
   "display_name": "Python 3",
   "language": "python",
   "name": "python3"
  },
  "language_info": {
   "codemirror_mode": {
    "name": "ipython",
    "version": 3
   },
   "file_extension": ".py",
   "mimetype": "text/x-python",
   "name": "python",
   "nbconvert_exporter": "python",
   "pygments_lexer": "ipython3",
   "version": "3.12.2"
  }
 },
 "nbformat": 4,
 "nbformat_minor": 2
}
