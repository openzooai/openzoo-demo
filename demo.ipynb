{
 "cells": [
  {
   "cell_type": "markdown",
   "metadata": {},
   "source": [
    "# OpenZoo"
   ]
  },
  {
   "cell_type": "markdown",
   "metadata": {},
   "source": [
    "---\n",
    "\n",
    "### Imports & Setup"
   ]
  },
  {
   "cell_type": "code",
   "execution_count": 5,
   "metadata": {},
   "outputs": [],
   "source": [
    "import os\n",
    "import json\n",
    "from pprint import pprint\n",
    "from utils import *"
   ]
  },
  {
   "cell_type": "markdown",
   "metadata": {},
   "source": [
    "---\n",
    "\n",
    "### Basic Usage"
   ]
  },
  {
   "cell_type": "markdown",
   "metadata": {},
   "source": [
    "OpenZoo is OpenAI compatible - just add 'api_key' and 'base_url' parameters"
   ]
  },
  {
   "cell_type": "code",
   "execution_count": 6,
   "metadata": {},
   "outputs": [],
   "source": [
    "from openai import OpenAI\n",
    "\n",
    "client = OpenAI(\n",
    "    api_key=\"CSJrjGeXOOVGb5fkIsFxXSMDFBMlI7a3\",\n",
    "    base_url=\"https://api.openzoo.ai/v1\"\n",
    ")"
   ]
  },
  {
   "cell_type": "markdown",
   "metadata": {},
   "source": [
    "Inference - where you would normally specify a model, you specify a **task**"
   ]
  },
  {
   "cell_type": "code",
   "execution_count": 7,
   "metadata": {},
   "outputs": [
    {
     "name": "stdout",
     "output_type": "stream",
     "text": [
      "{'choices': [{'finish_reason': 'eos',\n",
      "              'index': 0,\n",
      "              'logprobs': None,\n",
      "              'message': {'content': \" Why don't unicorns ever get lost? \"\n",
      "                                     'Because they always follow their own '\n",
      "                                     'rainbow.',\n",
      "                          'function_call': None,\n",
      "                          'role': 'assistant',\n",
      "                          'tool_calls': None}}],\n",
      " 'created': 1714765705,\n",
      " 'id': '87e2c4877e659867-SJC',\n",
      " 'model': 'mistralai/Mixtral-8x22B-Instruct-v0.1',\n",
      " 'object': 'chat.completion',\n",
      " 'prompt': [],\n",
      " 'system_fingerprint': None,\n",
      " 'usage': {'completion_tokens': 22, 'prompt_tokens': 32, 'total_tokens': 54}}\n"
     ]
    }
   ],
   "source": [
    "response = client.chat.completions.create(\n",
    "    model=\"chat XL-context safe\",\n",
    "    messages=[{\"role\": \"system\", \"content\": \"You are a helpful but brief assistant.\"},\n",
    "              {\"role\": \"user\", \"content\": \"Tell me a joke about unicorns.\"},],\n",
    "    stream=False,\n",
    ")\n",
    "\n",
    "pprint(chat_completion_to_dict(response))"
   ]
  },
  {
   "cell_type": "markdown",
   "metadata": {},
   "source": [
    "---\n",
    "\n",
    "### Streaming inference\n",
    "\n",
    "Chat"
   ]
  },
  {
   "cell_type": "code",
   "execution_count": null,
   "metadata": {},
   "outputs": [],
   "source": [
    "stream = client.chat.completions.create(\n",
    "    model=\"chat\",\n",
    "    messages=[{\"role\": \"system\", \"content\": \"You are a helpful assistant.\"},\n",
    "              {\"role\": \"user\", \"content\": \"Name the planets of the solar system and their moons.\"}],\n",
    "    stream=True,\n",
    ")\n",
    "\n",
    "for chunk in stream._iter_events():\n",
    "    print(json.loads(chunk.data)[\"choices\"][0][\"delta\"][\"content\"], end=\"\", flush=True)"
   ]
  },
  {
   "cell_type": "markdown",
   "metadata": {},
   "source": [
    "Completion"
   ]
  },
  {
   "cell_type": "code",
   "execution_count": null,
   "metadata": {},
   "outputs": [],
   "source": [
    "response = client.completions.create(\n",
    "    model=\"microsoft/phi-2\",\n",
    "    prompt=\"The capital of France is \",\n",
    "    stream=True\n",
    ")\n",
    "\n",
    "for chunk in response._iter_events():\n",
    "    print(json.loads(chunk.data)[\"choices\"][0][\"text\"], end=\"\", flush=True)"
   ]
  },
  {
   "cell_type": "markdown",
   "metadata": {},
   "source": [
    "---\n",
    "\n",
    "### Task types"
   ]
  },
  {
   "cell_type": "markdown",
   "metadata": {},
   "source": [
    "Chat"
   ]
  },
  {
   "cell_type": "code",
   "execution_count": null,
   "metadata": {},
   "outputs": [],
   "source": [
    "response = client.chat.completions.create(\n",
    "    model=\"chat\",\n",
    "    messages=[{\"role\": \"user\", \"content\": \"Tell me a joke about unicorns\"}],\n",
    "    stream=False,\n",
    ")\n",
    "\n",
    "pprint(chat_completion_to_dict(response))"
   ]
  },
  {
   "cell_type": "markdown",
   "metadata": {},
   "source": [
    "Summarization"
   ]
  },
  {
   "cell_type": "code",
   "execution_count": null,
   "metadata": {},
   "outputs": [],
   "source": [
    "response = client.chat.completions.create(\n",
    "    model=\"summarization XS\",\n",
    "    messages=[{\"role\": \"user\", \"content\": \"\"\"\n",
    "Urban Lab - Centre for Science and Environment Analysis\n",
    "Report 1\n",
    "Winter pollution in India: Overview of\n",
    "the crisis\n",
    "In 2020 the Urban Lab at the Centre for Science and Environment (CSE) started publishing the state of\n",
    "winter air quality among cities and towns of India that have realtime air quality monitoring. The analysis\n",
    "of the winter of 2022-23 covered 234 cities. The assessment of the seasonal trend in PM2.5\n",
    "concentration was done by sourcing realtime data from 440 CAAQMS stations via CPCB´s online portal.\n",
    "A huge volume of data points have been cleaned and data gaps have been addressed based on the\n",
    "USEPA method for this analysis. Winter has been defined as 1 October to 28 February. A minimum of 90\n",
    "days of valid 24-hour values was deemed mandatory to assign a seasonal/winter PM2.5 level to a\n",
    "station. Cities with multiple stations are represented by the mean of all the city stations that meet the\n",
    "minimum data requirement for both 2021-22 winter and 2022-23 winter.\n",
    "Regional levels have been constructed using the mean of all cities with valid seasonal levels in the\n",
    "particular region. India level has been determined as the mean of regional levels. These regional and\n",
    "national levels are only indicative.\n",
    "National and regional: North India was the most polluted region despite registering an improvement of\n",
    "about 15 per cent from the previous winter. Sound India remains the least polluted region but PM2.5\n",
    "levels have risen almost 17 per cent from the previous year. Pollution rose in West India and Northeast\n",
    "India as well. Central India registered marginal improvement in its winter air quality. Overall, the national\n",
    "average air quality for the 2022-23 winter was 1.32 per cent worse compared to the previous winter (See\n",
    "Table 1R1: National and regional winter PM2.5 levels)\n",
    "\n",
    "Summarize the above text.\n",
    "\"\"\"\n",
    "}],\n",
    "    stream=False,\n",
    ")\n",
    "\n",
    "pprint(chat_completion_to_dict(response))"
   ]
  },
  {
   "cell_type": "markdown",
   "metadata": {},
   "source": [
    "Math"
   ]
  },
  {
   "cell_type": "code",
   "execution_count": null,
   "metadata": {},
   "outputs": [],
   "source": [
    "response = client.chat.completions.create(\n",
    "    model=\"math L\",\n",
    "    messages=[{\"role\": \"user\", \"content\": \"\"\"\n",
    "Sarah is planning her son Tom's birthday party and intends to buy 3 balloons at $0.50 each, \n",
    "2 cupcakes at $2 each, and 2 juice boxes at $1 each for each of the 10 children initially \n",
    "expected to attend. Just before the party, she finds out that 2 more children will be joining. \n",
    "Calculate the total cost Sarah will spend on balloons, cupcakes, and juice boxes for all the children. \n",
    "Assume these are the only expenses for the party.\n",
    "\"\"\"}],\n",
    "    stream=False,\n",
    ")\n",
    "\n",
    "pprint(chat_completion_to_dict(response))"
   ]
  },
  {
   "cell_type": "markdown",
   "metadata": {},
   "source": [
    "Text to Sql"
   ]
  },
  {
   "cell_type": "code",
   "execution_count": null,
   "metadata": {},
   "outputs": [],
   "source": [
    "response = client.chat.completions.create(\n",
    "    model=\"code L\",\n",
    "    messages=[{\"role\": \"user\", \"content\": \"\"\"\n",
    "Find the total sales amount for each product category in the last quarter, \n",
    "considering only those categories that generated more than $10,000 in sales. \n",
    "Sort the categories by their total sales amount in descending order. \n",
    "Respond with only the SQL code, nothing else.\n",
    "\"\"\"}],\n",
    "    stream=False,\n",
    ")\n",
    "\n",
    "pprint(chat_completion_to_dict(response))"
   ]
  },
  {
   "cell_type": "markdown",
   "metadata": {},
   "source": [
    "---\n",
    "\n",
    "### Inferring task type"
   ]
  },
  {
   "cell_type": "code",
   "execution_count": null,
   "metadata": {},
   "outputs": [],
   "source": [
    "response = client.chat.completions.create(\n",
    "    model=\"\",\n",
    "    messages=[{\"role\": \"user\", \"content\": \"\"\"\n",
    "Sarah is planning her son Tom's birthday party and intends to buy 3 balloons at $0.50 each, \n",
    "2 cupcakes at $2 each, and 2 juice boxes at $1 each for each of the 10 children initially \n",
    "expected to attend. Just before the party, she finds out that 2 more children will be joining. \n",
    "Calculate the total cost Sarah will spend on balloons, cupcakes, and juice boxes for all the children. \n",
    "Assume these are the only expenses for the party.\n",
    "\"\"\"}],\n",
    "    stream=False,\n",
    ")\n",
    "\n",
    "pprint(chat_completion_to_dict(response))"
   ]
  },
  {
   "cell_type": "markdown",
   "metadata": {},
   "source": [
    "---\n",
    "\n",
    "### Embeddings"
   ]
  },
  {
   "cell_type": "code",
   "execution_count": 8,
   "metadata": {},
   "outputs": [
    {
     "data": {
      "text/plain": [
       "CreateEmbeddingResponse(data=[Embedding(embedding=[-0.09533103, 0.03506383, 0.1488472, 0.39892155, -0.2884365, 0.09008022, 0.15654418, -0.10170676, 0.021692922, -0.17776047, 0.20527752, -0.3085738, 0.07104097, -0.06172428, 0.17082554, -0.16069701, 0.22647251, -0.004039486, 0.10695668, 0.08794778, 0.027256347, 0.03542363, 0.019637048, 0.20575036, 0.03209699, -0.21053113, -0.05554741, -0.08705559, 0.06039309, -0.27940235, 0.11296952, -0.25324774, -0.20065737, -0.018432429, 0.015699204, -0.280732, 0.3526736, 0.19633143, 0.08737113, 0.05670429, -0.27741417, -0.13535869, 0.21846853, -0.12055481, -0.12507959, -0.25665113, 0.14141965, 0.23379071, -0.06970751, 0.14299415, 0.120539576, -0.05157388, 0.089332856, -0.12152379, -0.058104537, -0.10842544, -0.06949787, 0.2528357, 0.096347876, 0.13488764, -0.07706098, -0.14701483, -0.22808607, -0.013069543, -0.33046985, -0.24763213, -0.08847972, 0.0649067, -0.027322983, 0.054442775, -0.13086544, 0.2071249, 0.0011724372, -0.310106, -0.101315804, 0.07601296, -0.20980228, 0.018135935, -0.037750132, -0.03885638, 0.027286142, -0.040778454, -0.15536313, 0.048676077, 0.018743856, -0.03376393, -0.23658061, -0.07155315, 0.10022318, -0.09262025, 0.038296014, -0.063220434, -0.025205769, 0.08404972, -0.05894872, -0.10392576, 0.013514475, 0.07131718, -0.025960566, -0.088593856, -0.27060544, 0.13080698, 0.2098266, 0.10133762, 0.07391712, -0.012309564, -0.30534765, 0.024798885, 0.016701851, -0.10412341, 0.05214253, 0.017252382, -0.011522567, -0.16357414, -0.28817594, 0.20158716, -0.10118992, 0.10764744, 0.45948505, -0.29831102, -0.015111062, 0.055144873, 0.054127134, 0.03850129, 0.078035675, 0.08331251, 0.04608294, -0.006250415, 0.17523949, -0.062478263, -0.15302427, -0.058125693, -0.08289112, -0.16756305, -0.11352431, 0.098035224, -0.0817164, 0.20110318, 0.07307652, 0.22465791, -0.19502889, -0.1767204, -0.13481352, -0.04792434, -0.24260762, -0.15233098, -0.14198078, 0.032127276, 0.09872969, -0.07093713, -0.05144811, 0.06887492, -0.21886204, -0.10217011, 0.06179643, -0.26139212, -0.020883556, 0.08088318, 0.121697105, -0.008368509, -0.12984928, 0.13540879, 0.10706377, 0.13085175, 0.020252824, 0.21056393, 0.018185642, 0.21738584, 0.03189538, -0.039808027, 0.1661736, 0.23010612, -0.009438434, 0.017213654, -0.15184064, -0.15210815, 0.08398152, -0.10740688, -0.038036052, 0.21543258, 0.028334726, -0.30847436, -0.12159149, -0.010210894, -0.15796307, 0.21697858, -0.08653724, -0.053977113, -0.026603106, 0.21463203, -0.21598871, -0.1156023, 0.22296934, -0.20772238, -0.019378792, 0.025183098, 0.1880688, 0.04186513, 0.15944637, -0.20634927, 0.24393351, 0.34533393, 0.3059364, 0.057888176, -0.09311804, 0.102980435, -0.14695242, -0.03281506, -0.014836657, -0.07731369, -0.30750382, -0.2504071, -0.059063513, -0.32756624, 0.0005724377, -0.0086475955, -0.020848662, 0.16707483, 0.07554504, -0.21336642, -0.052356135, 0.20789807, 0.03673769, 0.07084172, 0.08692368, 0.22897027, -0.056233853, -0.14887191, 0.16811663, -0.1523937, 0.050814014, 0.014265028, 0.32269394, 0.0011235406, 0.016589187, -0.12152679, -0.048100628, -0.047225773, 0.011737926, 0.0842394, 0.0669745, -0.10374497, -0.2148389, -0.2534995, 0.2772873, 0.038407113, 0.03247857, 0.044112023, -0.17784221, -0.3603716, -0.010004582, -0.15902944, -0.2009547, 0.27560169, 0.16963173, -0.14287494, -0.042987753, 0.2282098, -0.25382295, 0.09313902, 0.31126788, -0.14097218, -0.26090574, -0.20863059, -0.21949174, 0.055124253, 0.096380346, 0.17770469, -0.080271296, -0.31109446, 0.16200435, 0.019673284, 0.032393422, -0.08087212, 0.076138474, 0.024449922, -0.08976779, 0.15529667, -0.10109301, -0.07315187, -0.10710393, 0.13514093, -0.021853711, -0.3418314, -0.020516898, -0.045200672, 0.14072618, 0.08174412, 0.22766909, 0.062999666, 0.16382891, -0.016907075, 0.24600661, 0.06408018, 0.12214595, 0.3468851, -0.003757165, 0.23045841, 0.20476384, -0.08569801, -0.12996814, 0.19059752, -0.040510565, -0.064770795, 0.2519062, 0.028714871, 0.07291758, 0.21400945, -0.0063507194, -0.006006708, 0.05216983, 0.1637266, 0.024064405, -0.25208172, -0.021772003, 0.13454324, 0.034276932, 0.017732114, 0.07231123, 0.17235492, -0.047680054, 0.19929236, 0.0729949, -0.16882926, 0.0498693, -0.14151564, -0.079545215, 0.15823258, -0.017486274, 0.039492227, 0.20921858, 0.13511778, 0.029824328, -0.0032605105, -0.047494803, 0.28803995, -0.24808551, -0.10433923, 0.14999378, -0.19068214, -0.3420053, -0.05670766, 0.23580813, -0.11036362, -0.028411461, 0.061823927, 0.13078493, 0.11599182, -0.110541485, 0.052559067, -0.08127309, -0.0741735, -0.21028808, 0.15299034, 0.03720919, -0.1831952, -0.05725806, -0.095929444, -0.06843837, 0.09507126, -0.046531502, 0.26189417, 0.24681251, -0.18955858, 0.03965734, -0.11399785, 0.208184, -0.15831287, 0.02601818, -0.10629592, 0.18094431, 0.075763896, 0.083002016, -0.10296435, 0.16158184, 0.061730556, -0.02102607, -0.28599864, -0.18645145, 0.06417923, 0.18263319, -0.22056198, 0.15913682, -0.069572434, -0.10053201, -0.086346954, -0.028416099, 0.18688461, 0.10014775, -0.019889984, -0.083022125, -0.18795475, -0.24590144, -0.14195526, 0.10419818, -0.3681101, -0.1321004, 0.12632191, 0.07220545, 0.26958606, -0.1861952, 0.06388611, -0.10584453, 0.054598767, 0.08095594, 0.036707673, 0.26745558, -0.06532408, 0.22357297, 0.089385666, -0.056054894, -0.011172622, 0.09440107, -0.015721126, 0.1487453, -0.036922995, -0.12824288, -0.06982171, 0.058717642, -0.18256743, -0.06173353, 0.05452128, -0.19934826, -0.04321189, -0.016042419, -0.15367816, 0.030476857, -0.10852599, 0.19802146, 0.25283977, -0.0077540474, 0.13217035, 0.21524839, 0.05879234, 0.28616455, -0.1010911, 0.06924502, -0.12411131, 0.27814484, -0.24398248, 0.07257798, -0.13386568, 0.04900027, -0.20038098, -0.10602299, -0.031394616, -0.033364628, 0.27466837, 0.3286488, 0.18409304, -0.23166366, 0.10156497, -0.103841916, 0.026649399, -0.12504074, 0.11556292, -0.2427839, -0.10891368, 0.057291295, -0.18197675, 0.05577666, -0.021708993, 0.19204919, -0.1030351, 0.18412656, 0.010807698, -0.324485, 0.020121837, -0.058244426, -0.14731117, -0.19229516, -0.28181776, 0.13925074, -0.119871415, 0.020068225, 0.04757562, 0.005087816, -0.016710538, -0.03766812, -0.042159185, 0.04532528, 0.29366237, 0.22795309, 0.027465863, 0.17340778, 0.13025916, -0.13581584, 0.3564325, -0.35079682, -0.33325312, 0.0014289637, -0.060309753, 0.2898634, 0.2430288, -0.22292048, 0.01970296, 0.032425024, 0.19900762, 0.068762794, 0.0381859, -0.3019886, 0.071863934, 0.0040734895, -0.017117236, 0.11586009, 0.03284677, 0.12664758, -0.14671834, -0.06042757, -0.0441213, -0.033552304, 0.1261468, 0.060920306, -0.16389078, 0.07575702, -0.022965014, -0.015313444, 0.28277975, 0.34485316, -0.04397238, 0.062211726, -0.22129309, 0.05386533, -0.20400637, -0.0009865714, -0.04628045, 0.036692556, -0.089580774, -0.029905608, 0.1449232, 0.235733, -0.0036375334, -0.05960559, 0.10565636, 0.2853119, -0.039893195, 0.009855422, -0.024196545, 0.06397472, 0.05482624, 0.34176713, 0.041197896, 0.027439209, 0.26724452, 0.026840685, 0.29336002, 0.28845397, 0.030667707, -0.008209319, -0.01808413, 0.17152382, 0.18176308, -0.34833592, 0.034931153, -0.07869901, -0.10035901, -0.49946123, -0.2004634, 0.031479005, 0.095778465, 0.12256015, -0.21884745, -0.04805022, -0.11216447, 0.067645386, 0.09902095, -0.13194096, 0.1777008, 0.20282637, -0.26328444, 0.13052833, -0.07472532, -0.052423306, -0.22699493, -0.28351134, 0.041614328, -0.24056675, -0.23527293, 0.050465465, -0.012114957, -0.11619694, 0.28056204, -0.13449205, -0.14834058, -0.0388514, -0.1504123, -0.14367752, 0.09694293, 0.16712227, 0.020672368, 0.04199027, -0.1911043, 0.096849546, 0.19889879, -0.33537132, -0.119826525, -0.1335178, 0.123865634, 0.33615208, -0.03761324, 0.25439227, -0.21248306, 0.100953594, -0.22948931, 0.06791545, -0.22066285, 0.05225075, 0.26740474, 0.021642834, 0.07897891, -0.29326007, -0.018170267, 0.040826093, -0.13379113, -0.10707724, -0.09626637, -0.13826887, -0.14041789, 0.16635898, -0.29374337, 0.27197102, 0.02373492, 0.018361779, -0.11891058, -0.33558398, -0.1969198, 0.11279962, -0.042946864, -0.24016431, -0.23282532, 0.30396464, -0.07647388, -0.034227613, -0.08279064, 0.115309514, -0.020158911, 0.020817807, 0.1401989, -0.123967506, -0.15761325, -0.07713079, -0.10971974, -0.26316932, -0.5076793, 0.12708227, -0.0020794126, -0.009681076, -0.08901208, 0.06710978, -0.09291402, -0.030533794, -0.14547667, -0.26206845, -0.05131639, -0.08615109, -0.15549013, -0.11133515, 0.00322218, 0.0035420817, -0.009538034, -0.10933946, -0.03760389, -0.034316245, -0.0465906, -0.15789223, -0.10361098, 0.020362074, -0.12184306, 0.048771236, -0.0817499, -0.057493303, -0.13705465, -0.1320406, -0.19895598, 0.029845037, 0.17774527, 0.12221439, 0.04187937, 0.036888164, 0.024509327, -0.12395691, -0.10495674, -0.09973415, 0.017331423, 0.061849147, -0.26171514, -0.14134495, 0.084596656, 0.31287372, 0.35783514, -0.01924661, -0.16199085, -0.16100787, -0.16005316, -0.017471878, -0.13182117, 0.1617531, -0.0056411666, -0.029691245, -0.19491057, 0.0872061, -0.02076617, 0.07190248, -0.11350029, -0.21118358, 0.014299679, -0.20244908, -0.10355045, -0.2571289, 0.23705827, 0.16533808, -0.030125033, -0.15498304, -0.25488764, 0.015477969, -0.1244655, -0.028837642, 0.32531375, 0.15261379, -0.006807773, -0.08535912, 0.050884187, 0.21081616, -0.08089859, -0.021526784, -0.017842611, 0.04080219, -0.035093475, -0.19583477, 0.030291494, 0.17812979, 0.0044549326, 0.21108846, -0.12445869, 0.47777164, 0.085330784, 0.09838784, 0.18815288, -0.1485414, 0.07848681, -0.13020156, 0.2078355, -0.0003190447, -0.26426315, 0.15775532, 0.11104157, 0.23672047, 0.167299, 0.11354895, -0.02780969, 0.023890825, -0.13625702, 0.09350975, 0.21093412, -0.13800015, -0.06056395, 0.059136488, 0.07510213, 0.028401516, 0.14099464, -0.09512344, 0.023655906, -0.14995226, 0.4033151, -0.028135406, 0.08524556, -0.19157022, -0.06201498], index=0, object='embedding')], model='togethercomputer/m2-bert-80M-8k-retrieval', object='list', usage=None)"
      ]
     },
     "execution_count": 8,
     "metadata": {},
     "output_type": "execute_result"
    }
   ],
   "source": [
    "client.embeddings.create(input = [\"Some text that needs to be embedded\"], model='togethercomputer/m2-bert-80M-8k-retrieval')"
   ]
  },
  {
   "cell_type": "markdown",
   "metadata": {},
   "source": [
    "---\n",
    "\n",
    "### You can specify the model when you need to"
   ]
  },
  {
   "cell_type": "code",
   "execution_count": null,
   "metadata": {},
   "outputs": [],
   "source": [
    "response = client.chat.completions.create(\n",
    "    model=\"mistralai/Mixtral-8x7B-Instruct-v0.1\",\n",
    "    messages=[{\"role\": \"user\", \"content\": \"\"\"\n",
    "Sarah is planning her son Tom's birthday party and intends to buy 3 balloons at $0.50 each, \n",
    "2 cupcakes at $2 each, and 2 juice boxes at $1 each for each of the 10 children initially \n",
    "expected to attend. Just before the party, she finds out that 2 more children will be joining. \n",
    "Calculate the total cost Sarah will spend on balloons, cupcakes, and juice boxes for all the children. \n",
    "Assume these are the only expenses for the party.\n",
    "\"\"\"}],\n",
    "    stream=False,\n",
    ")\n",
    "\n",
    "pprint(chat_completion_to_dict(response))"
   ]
  },
  {
   "cell_type": "markdown",
   "metadata": {},
   "source": [
    "---\n",
    "\n",
    "### Coming soon..."
   ]
  },
  {
   "cell_type": "code",
   "execution_count": null,
   "metadata": {},
   "outputs": [],
   "source": [
    "response = client.chat.completions.create(\n",
    "    model=\"summarization, safe, eu-compliant, spanish\",  # This is our design space\n",
    "    messages=[{\"role\": \"user\", \"content\": \"\"\"\n",
    "Sarah is planning her son Tom's birthday party and intends to buy 3 balloons at $0.50 each, \n",
    "2 cupcakes at $2 each, and 2 juice boxes at $1 each for each of the 10 children initially \n",
    "expected to attend. Just before the party, she finds out that 2 more children will be joining. \n",
    "Calculate the total cost Sarah will spend on balloons, cupcakes, and juice boxes for all the children. \n",
    "Assume these are the only expenses for the party.\n",
    "\"\"\"}],\n",
    "    stream=False,\n",
    ")\n",
    "\n",
    "pprint(chat_completion_to_dict(response))"
   ]
  }
 ],
 "metadata": {
  "kernelspec": {
   "display_name": "Python 3",
   "language": "python",
   "name": "python3"
  },
  "language_info": {
   "codemirror_mode": {
    "name": "ipython",
    "version": 3
   },
   "file_extension": ".py",
   "mimetype": "text/x-python",
   "name": "python",
   "nbconvert_exporter": "python",
   "pygments_lexer": "ipython3",
   "version": "3.12.2"
  }
 },
 "nbformat": 4,
 "nbformat_minor": 2
}
