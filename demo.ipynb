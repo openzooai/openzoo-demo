{
 "cells": [
  {
   "cell_type": "markdown",
   "metadata": {},
   "source": [
    "# OpenZoo Demo"
   ]
  },
  {
   "cell_type": "markdown",
   "metadata": {},
   "source": [
    "---\n",
    "\n",
    "### Imports & Setup"
   ]
  },
  {
   "cell_type": "code",
   "execution_count": null,
   "metadata": {},
   "outputs": [],
   "source": [
    "import os\n",
    "import json\n",
    "from pprint import pprint\n",
    "from utils import *"
   ]
  },
  {
   "cell_type": "markdown",
   "metadata": {},
   "source": [
    "---\n",
    "\n",
    "### Basic Usage"
   ]
  },
  {
   "cell_type": "code",
   "execution_count": null,
   "metadata": {},
   "outputs": [],
   "source": [
    "from openai import OpenAI\n",
    "\n",
    "client = OpenAI(\n",
    "    api_key=\"d56f4hd45hd23h4d86h4e5rgstwetgljew\",\n",
    "    base_url=\"http://api.openzoo.ai:8888\" \n",
    ")"
   ]
  },
  {
   "cell_type": "markdown",
   "metadata": {},
   "source": [
    "Basic inference"
   ]
  },
  {
   "cell_type": "code",
   "execution_count": null,
   "metadata": {},
   "outputs": [],
   "source": [
    "response = client.chat.completions.create(\n",
    "    model=\"chat\",\n",
    "    messages=[{\"role\": \"user\", \"content\": \"Tell me a joke about unicorns\"}],\n",
    "    stream=False,\n",
    ")\n",
    "\n",
    "pprint(chat_completion_to_dict(response))"
   ]
  },
  {
   "cell_type": "markdown",
   "metadata": {},
   "source": [
    "---\n",
    "\n",
    "### Streaming inference"
   ]
  },
  {
   "cell_type": "code",
   "execution_count": null,
   "metadata": {},
   "outputs": [],
   "source": [
    "stream = client.chat.completions.create(\n",
    "    model=\"chat\",\n",
    "    messages=[{\"role\": \"user\", \"content\": \"Tell me a short joke about beavers\"}],\n",
    "    stream=True,\n",
    ")\n",
    "\n",
    "chunk = None\n",
    "content = \"\"\n",
    "\n",
    "for chunk in stream:\n",
    "    content += chunk.choices[0].text\n",
    "    print(chunk.choices[0].text, end=\"\", flush=True)"
   ]
  },
  {
   "cell_type": "markdown",
   "metadata": {},
   "source": [
    "Metadata"
   ]
  },
  {
   "cell_type": "code",
   "execution_count": null,
   "metadata": {},
   "outputs": [],
   "source": [
    "chunk.choices[0].text = content\n",
    "chat_completion_chunk_to_dict(chunk)"
   ]
  },
  {
   "cell_type": "markdown",
   "metadata": {},
   "source": [
    "---\n",
    "\n",
    "### Task types\n",
    "\n",
    "Chat"
   ]
  },
  {
   "cell_type": "code",
   "execution_count": null,
   "metadata": {},
   "outputs": [],
   "source": [
    "response = client.chat.completions.create(\n",
    "    model=\"chat\",\n",
    "    messages=[{\"role\": \"user\", \"content\": \"Tell me a joke about unicorns\"}],\n",
    "    stream=False,\n",
    ")\n",
    "\n",
    "pprint(chat_completion_to_dict(response))"
   ]
  },
  {
   "cell_type": "markdown",
   "metadata": {},
   "source": [
    "Summarization"
   ]
  },
  {
   "cell_type": "code",
   "execution_count": null,
   "metadata": {},
   "outputs": [],
   "source": [
    "response = client.chat.completions.create(\n",
    "    model=\"chat\",\n",
    "    messages=[{\"role\": \"user\", \"content\": \"Tell me a joke about unicorns\"}],\n",
    "    stream=False,\n",
    ")\n",
    "\n",
    "pprint(chat_completion_to_dict(response))"
   ]
  },
  {
   "cell_type": "markdown",
   "metadata": {},
   "source": [
    "Math"
   ]
  },
  {
   "cell_type": "code",
   "execution_count": null,
   "metadata": {},
   "outputs": [],
   "source": [
    "response = client.chat.completions.create(\n",
    "    model=\"chat\",\n",
    "    messages=[{\"role\": \"user\", \"content\": \"Tell me a joke about unicorns\"}],\n",
    "    stream=False,\n",
    ")\n",
    "\n",
    "pprint(chat_completion_to_dict(response))"
   ]
  },
  {
   "cell_type": "markdown",
   "metadata": {},
   "source": [
    "Text to Sql"
   ]
  },
  {
   "cell_type": "code",
   "execution_count": null,
   "metadata": {},
   "outputs": [],
   "source": [
    "response = client.chat.completions.create(\n",
    "    model=\"chat\",\n",
    "    messages=[{\"role\": \"user\", \"content\": \"Tell me a joke about unicorns\"}],\n",
    "    stream=False,\n",
    ")\n",
    "\n",
    "pprint(chat_completion_to_dict(response))"
   ]
  }
 ],
 "metadata": {
  "kernelspec": {
   "display_name": "Python 3",
   "language": "python",
   "name": "python3"
  },
  "language_info": {
   "codemirror_mode": {
    "name": "ipython",
    "version": 3
   },
   "file_extension": ".py",
   "mimetype": "text/x-python",
   "name": "python",
   "nbconvert_exporter": "python",
   "pygments_lexer": "ipython3",
   "version": "3.12.2"
  }
 },
 "nbformat": 4,
 "nbformat_minor": 2
}
